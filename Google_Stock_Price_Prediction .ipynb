{
 "cells": [
  {
   "cell_type": "code",
   "execution_count": 62,
   "metadata": {
    "id": "jSw3bpXYVk5_"
   },
   "outputs": [],
   "source": [
    "from fbprophet import Prophet\n",
    "import pandas as pd\n",
    "import numpy as np\n"
   ]
  },
  {
   "cell_type": "code",
   "execution_count": null,
   "metadata": {
    "id": "zPHoZ8FhVrPg"
   },
   "outputs": [],
   "source": [
    "df = pd.read_csv(\"google-data.csv\")"
   ]
  },
  {
   "cell_type": "code",
   "execution_count": null,
   "metadata": {
    "colab": {
     "base_uri": "https://localhost:8080/",
     "height": 204
    },
    "id": "HdIcu4hAVrot",
    "outputId": "f19a0a0d-a4a8-4f2e-80e3-ffc48b5d6b8f"
   },
   "outputs": [
    {
     "data": {
      "text/html": [
       "<div>\n",
       "<style scoped>\n",
       "    .dataframe tbody tr th:only-of-type {\n",
       "        vertical-align: middle;\n",
       "    }\n",
       "\n",
       "    .dataframe tbody tr th {\n",
       "        vertical-align: top;\n",
       "    }\n",
       "\n",
       "    .dataframe thead th {\n",
       "        text-align: right;\n",
       "    }\n",
       "</style>\n",
       "<table border=\"1\" class=\"dataframe\">\n",
       "  <thead>\n",
       "    <tr style=\"text-align: right;\">\n",
       "      <th></th>\n",
       "      <th>Date</th>\n",
       "      <th>Open</th>\n",
       "      <th>High</th>\n",
       "      <th>Low</th>\n",
       "      <th>Close</th>\n",
       "      <th>Adj Close</th>\n",
       "      <th>Volume</th>\n",
       "    </tr>\n",
       "  </thead>\n",
       "  <tbody>\n",
       "    <tr>\n",
       "      <th>0</th>\n",
       "      <td>2013-01-02</td>\n",
       "      <td>357.385559</td>\n",
       "      <td>361.151062</td>\n",
       "      <td>355.959839</td>\n",
       "      <td>359.288177</td>\n",
       "      <td>359.288177</td>\n",
       "      <td>5115500</td>\n",
       "    </tr>\n",
       "    <tr>\n",
       "      <th>1</th>\n",
       "      <td>2013-01-03</td>\n",
       "      <td>360.122742</td>\n",
       "      <td>363.600128</td>\n",
       "      <td>358.031342</td>\n",
       "      <td>359.496826</td>\n",
       "      <td>359.496826</td>\n",
       "      <td>4666500</td>\n",
       "    </tr>\n",
       "    <tr>\n",
       "      <th>2</th>\n",
       "      <td>2013-01-04</td>\n",
       "      <td>362.313507</td>\n",
       "      <td>368.339294</td>\n",
       "      <td>361.488861</td>\n",
       "      <td>366.600616</td>\n",
       "      <td>366.600616</td>\n",
       "      <td>5562800</td>\n",
       "    </tr>\n",
       "    <tr>\n",
       "      <th>3</th>\n",
       "      <td>2013-01-07</td>\n",
       "      <td>365.348755</td>\n",
       "      <td>367.301056</td>\n",
       "      <td>362.929504</td>\n",
       "      <td>365.001007</td>\n",
       "      <td>365.001007</td>\n",
       "      <td>3332900</td>\n",
       "    </tr>\n",
       "    <tr>\n",
       "      <th>4</th>\n",
       "      <td>2013-01-08</td>\n",
       "      <td>365.393463</td>\n",
       "      <td>365.771027</td>\n",
       "      <td>359.874359</td>\n",
       "      <td>364.280701</td>\n",
       "      <td>364.280701</td>\n",
       "      <td>3373900</td>\n",
       "    </tr>\n",
       "  </tbody>\n",
       "</table>\n",
       "</div>"
      ],
      "text/plain": [
       "         Date        Open        High  ...       Close   Adj Close   Volume\n",
       "0  2013-01-02  357.385559  361.151062  ...  359.288177  359.288177  5115500\n",
       "1  2013-01-03  360.122742  363.600128  ...  359.496826  359.496826  4666500\n",
       "2  2013-01-04  362.313507  368.339294  ...  366.600616  366.600616  5562800\n",
       "3  2013-01-07  365.348755  367.301056  ...  365.001007  365.001007  3332900\n",
       "4  2013-01-08  365.393463  365.771027  ...  364.280701  364.280701  3373900\n",
       "\n",
       "[5 rows x 7 columns]"
      ]
     },
     "execution_count": 32,
     "metadata": {},
     "output_type": "execute_result"
    }
   ],
   "source": [
    "df.head()"
   ]
  },
  {
   "cell_type": "code",
   "execution_count": null,
   "metadata": {
    "colab": {
     "base_uri": "https://localhost:8080/"
    },
    "id": "9R8igyo9Vrrr",
    "outputId": "b7908e34-cc7a-47c0-a0b5-674cdf2fc41d"
   },
   "outputs": [
    {
     "name": "stdout",
     "output_type": "stream",
     "text": [
      "<class 'pandas.core.frame.DataFrame'>\n",
      "RangeIndex: 1259 entries, 0 to 1258\n",
      "Data columns (total 7 columns):\n",
      " #   Column     Non-Null Count  Dtype  \n",
      "---  ------     --------------  -----  \n",
      " 0   Date       1259 non-null   object \n",
      " 1   Open       1259 non-null   float64\n",
      " 2   High       1259 non-null   float64\n",
      " 3   Low        1259 non-null   float64\n",
      " 4   Close      1259 non-null   float64\n",
      " 5   Adj Close  1259 non-null   float64\n",
      " 6   Volume     1259 non-null   int64  \n",
      "dtypes: float64(5), int64(1), object(1)\n",
      "memory usage: 69.0+ KB\n"
     ]
    }
   ],
   "source": [
    "df.info()"
   ]
  },
  {
   "cell_type": "code",
   "execution_count": null,
   "metadata": {
    "id": "QF1SB11hgwRI"
   },
   "outputs": [],
   "source": [
    "df.Date = df.Date.apply(pd.to_datetime)"
   ]
  },
  {
   "cell_type": "code",
   "execution_count": null,
   "metadata": {
    "colab": {
     "base_uri": "https://localhost:8080/"
    },
    "id": "QgJA1J7zgwUC",
    "outputId": "72e870b3-82c5-4a30-839c-8026682bec2c"
   },
   "outputs": [
    {
     "name": "stdout",
     "output_type": "stream",
     "text": [
      "<class 'pandas.core.frame.DataFrame'>\n",
      "RangeIndex: 1259 entries, 0 to 1258\n",
      "Data columns (total 7 columns):\n",
      " #   Column     Non-Null Count  Dtype  \n",
      "---  ------     --------------  -----  \n",
      " 0   Date       1259 non-null   object \n",
      " 1   Open       1259 non-null   float64\n",
      " 2   High       1259 non-null   float64\n",
      " 3   Low        1259 non-null   float64\n",
      " 4   Close      1259 non-null   float64\n",
      " 5   Adj Close  1259 non-null   float64\n",
      " 6   Volume     1259 non-null   int64  \n",
      "dtypes: float64(5), int64(1), object(1)\n",
      "memory usage: 69.0+ KB\n"
     ]
    }
   ],
   "source": [
    "df.info()"
   ]
  },
  {
   "cell_type": "code",
   "execution_count": null,
   "metadata": {
    "id": "3KZ-Y9vVgwXl"
   },
   "outputs": [],
   "source": [
    "sample = df[[\"Date\",\"Close\"]]\n",
    "sample.columns = [\"ds\", \"y\"]"
   ]
  },
  {
   "cell_type": "code",
   "execution_count": null,
   "metadata": {
    "colab": {
     "base_uri": "https://localhost:8080/",
     "height": 419
    },
    "id": "w1b1BLILgwav",
    "outputId": "1d527ddb-90c2-4ce6-d49c-67b7e82c12d6"
   },
   "outputs": [
    {
     "data": {
      "text/html": [
       "<div>\n",
       "<style scoped>\n",
       "    .dataframe tbody tr th:only-of-type {\n",
       "        vertical-align: middle;\n",
       "    }\n",
       "\n",
       "    .dataframe tbody tr th {\n",
       "        vertical-align: top;\n",
       "    }\n",
       "\n",
       "    .dataframe thead th {\n",
       "        text-align: right;\n",
       "    }\n",
       "</style>\n",
       "<table border=\"1\" class=\"dataframe\">\n",
       "  <thead>\n",
       "    <tr style=\"text-align: right;\">\n",
       "      <th></th>\n",
       "      <th>ds</th>\n",
       "      <th>y</th>\n",
       "    </tr>\n",
       "  </thead>\n",
       "  <tbody>\n",
       "    <tr>\n",
       "      <th>0</th>\n",
       "      <td>2013-01-02</td>\n",
       "      <td>359.288177</td>\n",
       "    </tr>\n",
       "    <tr>\n",
       "      <th>1</th>\n",
       "      <td>2013-01-03</td>\n",
       "      <td>359.496826</td>\n",
       "    </tr>\n",
       "    <tr>\n",
       "      <th>2</th>\n",
       "      <td>2013-01-04</td>\n",
       "      <td>366.600616</td>\n",
       "    </tr>\n",
       "    <tr>\n",
       "      <th>3</th>\n",
       "      <td>2013-01-07</td>\n",
       "      <td>365.001007</td>\n",
       "    </tr>\n",
       "    <tr>\n",
       "      <th>4</th>\n",
       "      <td>2013-01-08</td>\n",
       "      <td>364.280701</td>\n",
       "    </tr>\n",
       "    <tr>\n",
       "      <th>...</th>\n",
       "      <td>...</td>\n",
       "      <td>...</td>\n",
       "    </tr>\n",
       "    <tr>\n",
       "      <th>1254</th>\n",
       "      <td>2017-12-22</td>\n",
       "      <td>1060.119995</td>\n",
       "    </tr>\n",
       "    <tr>\n",
       "      <th>1255</th>\n",
       "      <td>2017-12-26</td>\n",
       "      <td>1056.739990</td>\n",
       "    </tr>\n",
       "    <tr>\n",
       "      <th>1256</th>\n",
       "      <td>2017-12-27</td>\n",
       "      <td>1049.369995</td>\n",
       "    </tr>\n",
       "    <tr>\n",
       "      <th>1257</th>\n",
       "      <td>2017-12-28</td>\n",
       "      <td>1048.140015</td>\n",
       "    </tr>\n",
       "    <tr>\n",
       "      <th>1258</th>\n",
       "      <td>2017-12-29</td>\n",
       "      <td>1046.400024</td>\n",
       "    </tr>\n",
       "  </tbody>\n",
       "</table>\n",
       "<p>1259 rows × 2 columns</p>\n",
       "</div>"
      ],
      "text/plain": [
       "              ds            y\n",
       "0     2013-01-02   359.288177\n",
       "1     2013-01-03   359.496826\n",
       "2     2013-01-04   366.600616\n",
       "3     2013-01-07   365.001007\n",
       "4     2013-01-08   364.280701\n",
       "...          ...          ...\n",
       "1254  2017-12-22  1060.119995\n",
       "1255  2017-12-26  1056.739990\n",
       "1256  2017-12-27  1049.369995\n",
       "1257  2017-12-28  1048.140015\n",
       "1258  2017-12-29  1046.400024\n",
       "\n",
       "[1259 rows x 2 columns]"
      ]
     },
     "execution_count": 38,
     "metadata": {},
     "output_type": "execute_result"
    }
   ],
   "source": [
    "sample"
   ]
  },
  {
   "cell_type": "code",
   "execution_count": null,
   "metadata": {
    "colab": {
     "base_uri": "https://localhost:8080/",
     "height": 334
    },
    "id": "pmt9JHiXgwd3",
    "outputId": "982d6eb1-ca6e-44d3-89b4-7fcc0621b2dc"
   },
   "outputs": [
    {
     "name": "stderr",
     "output_type": "stream",
     "text": [
      "INFO:matplotlib.category:Using categorical units to plot a list of strings that are all parsable as floats or dates. If these strings should be plotted as numbers, cast to the appropriate data type before plotting.\n",
      "INFO:matplotlib.category:Using categorical units to plot a list of strings that are all parsable as floats or dates. If these strings should be plotted as numbers, cast to the appropriate data type before plotting.\n"
     ]
    },
    {
     "data": {
      "image/png": "[encoded data removed]",
      "text/plain": [
       "<Figure size 432x288 with 1 Axes>"
      ]
     },
     "metadata": {
      "needs_background": "light"
     },
     "output_type": "display_data"
    }
   ],
   "source": [
    "import seaborn as sns\n",
    "import matplotlib.pyplot as plt\n",
    "\n",
    "sns.lineplot(x= sample.ds, y= sample.y)\n",
    "plt.show()"
   ]
  },
  {
   "cell_type": "code",
   "execution_count": null,
   "metadata": {
    "id": "uWVw9B23gwht"
   },
   "outputs": [],
   "source": [
    "# separate data to train and test for further optimization\n",
    "train = sample.iloc[:-100,]\n",
    "test = sample.iloc[-100:]"
   ]
  },
  {
   "cell_type": "code",
   "execution_count": null,
   "metadata": {
    "id": "r2--ZlPjhCWN"
   },
   "outputs": [],
   "source": [
    "model = Prophet()"
   ]
  },
  {
   "cell_type": "code",
   "execution_count": null,
   "metadata": {
    "colab": {
     "base_uri": "https://localhost:8080/"
    },
    "id": "QaluQswfhCZO",
    "outputId": "8e2a42c5-e8a8-4374-deca-f20a7685b659"
   },
   "outputs": [
    {
     "name": "stderr",
     "output_type": "stream",
     "text": [
      "INFO:fbprophet:Disabling daily seasonality. Run prophet with daily_seasonality=True to override this.\n"
     ]
    },
    {
     "data": {
      "text/plain": [
       "<fbprophet.forecaster.Prophet at 0x7fee90755a50>"
      ]
     },
     "execution_count": 42,
     "metadata": {},
     "output_type": "execute_result"
    }
   ],
   "source": [
    "model.fit(train)"
   ]
  },
  {
   "cell_type": "code",
   "execution_count": null,
   "metadata": {
    "id": "L90qzRrHhCb4"
   },
   "outputs": [],
   "source": [
    "forecast = model.make_future_dataframe(periods = 100, freq= \"D\")\n",
    "predictions = model.predict(forecast)"
   ]
  },
  {
   "cell_type": "code",
   "execution_count": null,
   "metadata": {
    "colab": {
     "base_uri": "https://localhost:8080/"
    },
    "id": "8YSoZDqJhCfX",
    "outputId": "ceb30efe-d633-4a76-e7d0-f501b97e462e"
   },
   "outputs": [
    {
     "data": {
      "text/plain": [
       "(1259, 1)"
      ]
     },
     "execution_count": 44,
     "metadata": {},
     "output_type": "execute_result"
    }
   ],
   "source": [
    "forecast.shape"
   ]
  },
  {
   "cell_type": "code",
   "execution_count": null,
   "metadata": {
    "colab": {
     "base_uri": "https://localhost:8080/",
     "height": 309
    },
    "id": "Fk6oVjmYhCpd",
    "outputId": "bc1e1b32-2bb5-4de1-ca44-df291e3b940a"
   },
   "outputs": [
    {
     "data": {
      "text/html": [
       "<div>\n",
       "<style scoped>\n",
       "    .dataframe tbody tr th:only-of-type {\n",
       "        vertical-align: middle;\n",
       "    }\n",
       "\n",
       "    .dataframe tbody tr th {\n",
       "        vertical-align: top;\n",
       "    }\n",
       "\n",
       "    .dataframe thead th {\n",
       "        text-align: right;\n",
       "    }\n",
       "</style>\n",
       "<table border=\"1\" class=\"dataframe\">\n",
       "  <thead>\n",
       "    <tr style=\"text-align: right;\">\n",
       "      <th></th>\n",
       "      <th>ds</th>\n",
       "      <th>trend</th>\n",
       "      <th>yhat_lower</th>\n",
       "      <th>yhat_upper</th>\n",
       "      <th>trend_lower</th>\n",
       "      <th>trend_upper</th>\n",
       "      <th>additive_terms</th>\n",
       "      <th>additive_terms_lower</th>\n",
       "      <th>additive_terms_upper</th>\n",
       "      <th>weekly</th>\n",
       "      <th>weekly_lower</th>\n",
       "      <th>weekly_upper</th>\n",
       "      <th>yearly</th>\n",
       "      <th>yearly_lower</th>\n",
       "      <th>yearly_upper</th>\n",
       "      <th>multiplicative_terms</th>\n",
       "      <th>multiplicative_terms_lower</th>\n",
       "      <th>multiplicative_terms_upper</th>\n",
       "      <th>yhat</th>\n",
       "    </tr>\n",
       "  </thead>\n",
       "  <tbody>\n",
       "    <tr>\n",
       "      <th>0</th>\n",
       "      <td>2013-01-02</td>\n",
       "      <td>386.997704</td>\n",
       "      <td>345.739081</td>\n",
       "      <td>399.745296</td>\n",
       "      <td>386.997704</td>\n",
       "      <td>386.997704</td>\n",
       "      <td>-14.746664</td>\n",
       "      <td>-14.746664</td>\n",
       "      <td>-14.746664</td>\n",
       "      <td>6.879679</td>\n",
       "      <td>6.879679</td>\n",
       "      <td>6.879679</td>\n",
       "      <td>-21.626343</td>\n",
       "      <td>-21.626343</td>\n",
       "      <td>-21.626343</td>\n",
       "      <td>0.0</td>\n",
       "      <td>0.0</td>\n",
       "      <td>0.0</td>\n",
       "      <td>372.251039</td>\n",
       "    </tr>\n",
       "    <tr>\n",
       "      <th>1</th>\n",
       "      <td>2013-01-03</td>\n",
       "      <td>387.169039</td>\n",
       "      <td>342.336395</td>\n",
       "      <td>397.181183</td>\n",
       "      <td>387.169039</td>\n",
       "      <td>387.169039</td>\n",
       "      <td>-16.293346</td>\n",
       "      <td>-16.293346</td>\n",
       "      <td>-16.293346</td>\n",
       "      <td>5.926867</td>\n",
       "      <td>5.926867</td>\n",
       "      <td>5.926867</td>\n",
       "      <td>-22.220213</td>\n",
       "      <td>-22.220213</td>\n",
       "      <td>-22.220213</td>\n",
       "      <td>0.0</td>\n",
       "      <td>0.0</td>\n",
       "      <td>0.0</td>\n",
       "      <td>370.875693</td>\n",
       "    </tr>\n",
       "    <tr>\n",
       "      <th>2</th>\n",
       "      <td>2013-01-04</td>\n",
       "      <td>387.340375</td>\n",
       "      <td>344.703678</td>\n",
       "      <td>399.317409</td>\n",
       "      <td>387.340375</td>\n",
       "      <td>387.340375</td>\n",
       "      <td>-16.544963</td>\n",
       "      <td>-16.544963</td>\n",
       "      <td>-16.544963</td>\n",
       "      <td>6.222136</td>\n",
       "      <td>6.222136</td>\n",
       "      <td>6.222136</td>\n",
       "      <td>-22.767100</td>\n",
       "      <td>-22.767100</td>\n",
       "      <td>-22.767100</td>\n",
       "      <td>0.0</td>\n",
       "      <td>0.0</td>\n",
       "      <td>0.0</td>\n",
       "      <td>370.795412</td>\n",
       "    </tr>\n",
       "    <tr>\n",
       "      <th>3</th>\n",
       "      <td>2013-01-07</td>\n",
       "      <td>387.854382</td>\n",
       "      <td>343.735476</td>\n",
       "      <td>397.020721</td>\n",
       "      <td>387.854382</td>\n",
       "      <td>387.854382</td>\n",
       "      <td>-18.135633</td>\n",
       "      <td>-18.135633</td>\n",
       "      <td>-18.135633</td>\n",
       "      <td>5.974312</td>\n",
       "      <td>5.974312</td>\n",
       "      <td>5.974312</td>\n",
       "      <td>-24.109944</td>\n",
       "      <td>-24.109944</td>\n",
       "      <td>-24.109944</td>\n",
       "      <td>0.0</td>\n",
       "      <td>0.0</td>\n",
       "      <td>0.0</td>\n",
       "      <td>369.718749</td>\n",
       "    </tr>\n",
       "    <tr>\n",
       "      <th>4</th>\n",
       "      <td>2013-01-08</td>\n",
       "      <td>388.025718</td>\n",
       "      <td>343.308685</td>\n",
       "      <td>397.712056</td>\n",
       "      <td>388.025718</td>\n",
       "      <td>388.025718</td>\n",
       "      <td>-18.246958</td>\n",
       "      <td>-18.246958</td>\n",
       "      <td>-18.246958</td>\n",
       "      <td>6.210030</td>\n",
       "      <td>6.210030</td>\n",
       "      <td>6.210030</td>\n",
       "      <td>-24.456988</td>\n",
       "      <td>-24.456988</td>\n",
       "      <td>-24.456988</td>\n",
       "      <td>0.0</td>\n",
       "      <td>0.0</td>\n",
       "      <td>0.0</td>\n",
       "      <td>369.778760</td>\n",
       "    </tr>\n",
       "  </tbody>\n",
       "</table>\n",
       "</div>"
      ],
      "text/plain": [
       "          ds       trend  ...  multiplicative_terms_upper        yhat\n",
       "0 2013-01-02  386.997704  ...                         0.0  372.251039\n",
       "1 2013-01-03  387.169039  ...                         0.0  370.875693\n",
       "2 2013-01-04  387.340375  ...                         0.0  370.795412\n",
       "3 2013-01-07  387.854382  ...                         0.0  369.718749\n",
       "4 2013-01-08  388.025718  ...                         0.0  369.778760\n",
       "\n",
       "[5 rows x 19 columns]"
      ]
     },
     "execution_count": 45,
     "metadata": {},
     "output_type": "execute_result"
    }
   ],
   "source": [
    "predictions.head()"
   ]
  },
  {
   "cell_type": "code",
   "execution_count": null,
   "metadata": {
    "id": "Y1-TATGshCsp"
   },
   "outputs": [],
   "source": [
    "preds = predictions[[\"ds\", \"yhat\"]]"
   ]
  },
  {
   "cell_type": "code",
   "execution_count": null,
   "metadata": {
    "colab": {
     "base_uri": "https://localhost:8080/",
     "height": 441
    },
    "id": "hhEoU-5DhCun",
    "outputId": "30184505-7cda-43b1-f8c5-89a175117dda"
   },
   "outputs": [
    {
     "data": {
      "image/png": "[encoded data removed]",
      "text/plain": [
       "<Figure size 720x432 with 1 Axes>"
      ]
     },
     "metadata": {},
     "output_type": "display_data"
    }
   ],
   "source": [
    "model.plot(predictions, xlabel = \"Date\", ylabel= \"Stock close price\");"
   ]
  },
  {
   "cell_type": "code",
   "execution_count": null,
   "metadata": {
    "colab": {
     "base_uri": "https://localhost:8080/",
     "height": 657
    },
    "id": "-ZnOiyy_hCxN",
    "outputId": "87e22431-c527-46d4-8835-8be29883e348"
   },
   "outputs": [
    {
     "data": {
      "image/png": "[encoded data removed]",
      "text/plain": [
       "<Figure size 648x648 with 3 Axes>"
      ]
     },
     "metadata": {},
     "output_type": "display_data"
    }
   ],
   "source": [
    "model.plot_components(predictions);"
   ]
  },
  {
   "cell_type": "code",
   "execution_count": null,
   "metadata": {
    "colab": {
     "base_uri": "https://localhost:8080/"
    },
    "id": "L9zCPB6yhCzI",
    "outputId": "db43bb0a-4000-42e3-8449-5117900224b7"
   },
   "outputs": [
    {
     "data": {
      "text/plain": [
       "(1259, 2)"
      ]
     },
     "execution_count": 49,
     "metadata": {},
     "output_type": "execute_result"
    }
   ],
   "source": [
    "preds.shape"
   ]
  },
  {
   "cell_type": "code",
   "execution_count": null,
   "metadata": {
    "id": "3JpgdffYhdCn"
   },
   "outputs": [],
   "source": [
    "y_pred = preds.iloc[-100:, 1]\n",
    "y_test = test.y"
   ]
  },
  {
   "cell_type": "code",
   "execution_count": null,
   "metadata": {
    "colab": {
     "base_uri": "https://localhost:8080/"
    },
    "id": "qo9Ck443hdFj",
    "outputId": "e793a621-b25c-48df-ac9d-fd4f2881f5ff"
   },
   "outputs": [
    {
     "data": {
      "text/plain": [
       "1159     976.612423\n",
       "1160     975.564497\n",
       "1161     975.723284\n",
       "1162     953.721062\n",
       "1163     953.514837\n",
       "           ...     \n",
       "1254     983.563052\n",
       "1255    1004.381091\n",
       "1256    1003.835059\n",
       "1257    1003.725988\n",
       "1258    1002.018702\n",
       "Name: yhat, Length: 100, dtype: float64"
      ]
     },
     "execution_count": 51,
     "metadata": {},
     "output_type": "execute_result"
    }
   ],
   "source": [
    "y_pred"
   ]
  },
  {
   "cell_type": "code",
   "execution_count": null,
   "metadata": {
    "colab": {
     "base_uri": "https://localhost:8080/"
    },
    "id": "ZfPmRWIvhdIl",
    "outputId": "e3c7892d-6cce-4e23-b32d-98e2f15864a2"
   },
   "outputs": [
    {
     "data": {
      "text/plain": [
       "1159     922.900024\n",
       "1160     907.239990\n",
       "1161     914.390015\n",
       "1162     922.669983\n",
       "1163     922.219971\n",
       "           ...     \n",
       "1254    1060.119995\n",
       "1255    1056.739990\n",
       "1256    1049.369995\n",
       "1257    1048.140015\n",
       "1258    1046.400024\n",
       "Name: y, Length: 100, dtype: float64"
      ]
     },
     "execution_count": 52,
     "metadata": {},
     "output_type": "execute_result"
    }
   ],
   "source": [
    "y_test"
   ]
  },
  {
   "cell_type": "code",
   "execution_count": null,
   "metadata": {
    "id": "bH2w9cx2hdLE"
   },
   "outputs": [],
   "source": [
    "from sklearn.metrics import mean_squared_error"
   ]
  },
  {
   "cell_type": "code",
   "execution_count": null,
   "metadata": {
    "id": "HMtRuagxhdMo"
   },
   "outputs": [],
   "source": [
    "def rmse(y_t, y_p):\n",
    "  return float(np.sqrt(mean_squared_error(y_true= y_test, y_pred= y_pred)))"
   ]
  },
  {
   "cell_type": "code",
   "execution_count": null,
   "metadata": {
    "colab": {
     "base_uri": "https://localhost:8080/"
    },
    "id": "U83UhjmWhdOV",
    "outputId": "ab8cefc4-2faf-4936-e333-f9150cc898c3"
   },
   "outputs": [
    {
     "data": {
      "text/plain": [
       "44.31477243427674"
      ]
     },
     "execution_count": 55,
     "metadata": {},
     "output_type": "execute_result"
    }
   ],
   "source": [
    "rmse(y_test, y_pred)"
   ]
  },
  {
   "cell_type": "code",
   "execution_count": null,
   "metadata": {
    "colab": {
     "base_uri": "https://localhost:8080/"
    },
    "id": "hpd_5M91hdR9",
    "outputId": "346d5a39-92ed-4774-fc11-cfafc0aeec81"
   },
   "outputs": [
    {
     "data": {
      "text/plain": [
       "(1259, 2)"
      ]
     },
     "execution_count": 56,
     "metadata": {},
     "output_type": "execute_result"
    }
   ],
   "source": [
    "sample.shape"
   ]
  },
  {
   "cell_type": "code",
   "execution_count": null,
   "metadata": {
    "id": "rL07hzMchdUL"
   },
   "outputs": [],
   "source": [
    "# Optimization Problem"
   ]
  },
  {
   "cell_type": "code",
   "execution_count": 67,
   "metadata": {
    "id": "U7FS0irThdV_"
   },
   "outputs": [],
   "source": [
    "\n",
    "import optuna\n",
    "from fbprophet.diagnostics import cross_validation, performance_metrics"
   ]
  },
  {
   "cell_type": "code",
   "execution_count": 65,
   "metadata": {
    "colab": {
     "base_uri": "https://localhost:8080/"
    },
    "id": "xjNJOIXmlwVn",
    "outputId": "461af6c3-4b9d-4918-e024-63a28924e787"
   },
   "outputs": [
    {
     "name": "stdout",
     "output_type": "stream",
     "text": [
      "Collecting optuna-dashboard\n",
      "  Downloading optuna_dashboard-0.5.0-py3-none-any.whl (1.2 MB)\n",
      "\u001b[?25l\r",
      "\u001b[K     |▎                               | 10 kB 17.5 MB/s eta 0:00:01\r",
      "\u001b[K     |▌                               | 20 kB 21.2 MB/s eta 0:00:01\r",
      "\u001b[K     |▉                               | 30 kB 22.8 MB/s eta 0:00:01\r",
      "\u001b[K     |█                               | 40 kB 24.6 MB/s eta 0:00:01\r",
      "\u001b[K     |█▍                              | 51 kB 26.2 MB/s eta 0:00:01\r",
      "\u001b[K     |█▋                              | 61 kB 27.7 MB/s eta 0:00:01\r",
      "\u001b[K     |██                              | 71 kB 28.4 MB/s eta 0:00:01\r",
      "\u001b[K     |██▏                             | 81 kB 29.2 MB/s eta 0:00:01\r",
      "\u001b[K     |██▌                             | 92 kB 30.7 MB/s eta 0:00:01\r",
      "\u001b[K     |██▊                             | 102 kB 32.3 MB/s eta 0:00:01\r",
      "\u001b[K     |███                             | 112 kB 32.3 MB/s eta 0:00:01\r",
      "\u001b[K     |███▎                            | 122 kB 32.3 MB/s eta 0:00:01\r",
      "\u001b[K     |███▋                            | 133 kB 32.3 MB/s eta 0:00:01\r",
      "\u001b[K     |███▉                            | 143 kB 32.3 MB/s eta 0:00:01\r",
      "\u001b[K     |████▏                           | 153 kB 32.3 MB/s eta 0:00:01\r",
      "\u001b[K     |████▍                           | 163 kB 32.3 MB/s eta 0:00:01\r",
      "\u001b[K     |████▋                           | 174 kB 32.3 MB/s eta 0:00:01\r",
      "\u001b[K     |█████                           | 184 kB 32.3 MB/s eta 0:00:01\r",
      "\u001b[K     |█████▏                          | 194 kB 32.3 MB/s eta 0:00:01\r",
      "\u001b[K     |█████▌                          | 204 kB 32.3 MB/s eta 0:00:01\r",
      "\u001b[K     |█████▊                          | 215 kB 32.3 MB/s eta 0:00:01\r",
      "\u001b[K     |██████                          | 225 kB 32.3 MB/s eta 0:00:01\r",
      "\u001b[K     |██████▎                         | 235 kB 32.3 MB/s eta 0:00:01\r",
      "\u001b[K     |██████▋                         | 245 kB 32.3 MB/s eta 0:00:01\r",
      "\u001b[K     |██████▉                         | 256 kB 32.3 MB/s eta 0:00:01\r",
      "\u001b[K     |███████▏                        | 266 kB 32.3 MB/s eta 0:00:01\r",
      "\u001b[K     |███████▍                        | 276 kB 32.3 MB/s eta 0:00:01\r",
      "\u001b[K     |███████▊                        | 286 kB 32.3 MB/s eta 0:00:01\r",
      "\u001b[K     |████████                        | 296 kB 32.3 MB/s eta 0:00:01\r",
      "\u001b[K     |████████▎                       | 307 kB 32.3 MB/s eta 0:00:01\r",
      "\u001b[K     |████████▌                       | 317 kB 32.3 MB/s eta 0:00:01\r",
      "\u001b[K     |████████▉                       | 327 kB 32.3 MB/s eta 0:00:01\r",
      "\u001b[K     |█████████                       | 337 kB 32.3 MB/s eta 0:00:01\r",
      "\u001b[K     |█████████▎                      | 348 kB 32.3 MB/s eta 0:00:01\r",
      "\u001b[K     |█████████▋                      | 358 kB 32.3 MB/s eta 0:00:01\r",
      "\u001b[K     |█████████▉                      | 368 kB 32.3 MB/s eta 0:00:01\r",
      "\u001b[K     |██████████▏                     | 378 kB 32.3 MB/s eta 0:00:01\r",
      "\u001b[K     |██████████▍                     | 389 kB 32.3 MB/s eta 0:00:01\r",
      "\u001b[K     |██████████▊                     | 399 kB 32.3 MB/s eta 0:00:01\r",
      "\u001b[K     |███████████                     | 409 kB 32.3 MB/s eta 0:00:01\r",
      "\u001b[K     |███████████▎                    | 419 kB 32.3 MB/s eta 0:00:01\r",
      "\u001b[K     |███████████▌                    | 430 kB 32.3 MB/s eta 0:00:01\r",
      "\u001b[K     |███████████▉                    | 440 kB 32.3 MB/s eta 0:00:01\r",
      "\u001b[K     |████████████                    | 450 kB 32.3 MB/s eta 0:00:01\r",
      "\u001b[K     |████████████▍                   | 460 kB 32.3 MB/s eta 0:00:01\r",
      "\u001b[K     |████████████▋                   | 471 kB 32.3 MB/s eta 0:00:01\r",
      "\u001b[K     |█████████████                   | 481 kB 32.3 MB/s eta 0:00:01\r",
      "\u001b[K     |█████████████▏                  | 491 kB 32.3 MB/s eta 0:00:01\r",
      "\u001b[K     |█████████████▍                  | 501 kB 32.3 MB/s eta 0:00:01\r",
      "\u001b[K     |█████████████▊                  | 512 kB 32.3 MB/s eta 0:00:01\r",
      "\u001b[K     |██████████████                  | 522 kB 32.3 MB/s eta 0:00:01\r",
      "\u001b[K     |██████████████▎                 | 532 kB 32.3 MB/s eta 0:00:01\r",
      "\u001b[K     |██████████████▌                 | 542 kB 32.3 MB/s eta 0:00:01\r",
      "\u001b[K     |██████████████▉                 | 552 kB 32.3 MB/s eta 0:00:01\r",
      "\u001b[K     |███████████████                 | 563 kB 32.3 MB/s eta 0:00:01\r",
      "\u001b[K     |███████████████▍                | 573 kB 32.3 MB/s eta 0:00:01\r",
      "\u001b[K     |███████████████▋                | 583 kB 32.3 MB/s eta 0:00:01\r",
      "\u001b[K     |████████████████                | 593 kB 32.3 MB/s eta 0:00:01\r",
      "\u001b[K     |████████████████▏               | 604 kB 32.3 MB/s eta 0:00:01\r",
      "\u001b[K     |████████████████▌               | 614 kB 32.3 MB/s eta 0:00:01\r",
      "\u001b[K     |████████████████▊               | 624 kB 32.3 MB/s eta 0:00:01\r",
      "\u001b[K     |█████████████████               | 634 kB 32.3 MB/s eta 0:00:01\r",
      "\u001b[K     |█████████████████▎              | 645 kB 32.3 MB/s eta 0:00:01\r",
      "\u001b[K     |█████████████████▋              | 655 kB 32.3 MB/s eta 0:00:01\r",
      "\u001b[K     |█████████████████▉              | 665 kB 32.3 MB/s eta 0:00:01\r",
      "\u001b[K     |██████████████████              | 675 kB 32.3 MB/s eta 0:00:01\r",
      "\u001b[K     |██████████████████▍             | 686 kB 32.3 MB/s eta 0:00:01\r",
      "\u001b[K     |██████████████████▋             | 696 kB 32.3 MB/s eta 0:00:01\r",
      "\u001b[K     |███████████████████             | 706 kB 32.3 MB/s eta 0:00:01\r",
      "\u001b[K     |███████████████████▏            | 716 kB 32.3 MB/s eta 0:00:01\r",
      "\u001b[K     |███████████████████▌            | 727 kB 32.3 MB/s eta 0:00:01\r",
      "\u001b[K     |███████████████████▊            | 737 kB 32.3 MB/s eta 0:00:01\r",
      "\u001b[K     |████████████████████            | 747 kB 32.3 MB/s eta 0:00:01\r",
      "\u001b[K     |████████████████████▎           | 757 kB 32.3 MB/s eta 0:00:01\r",
      "\u001b[K     |████████████████████▋           | 768 kB 32.3 MB/s eta 0:00:01\r",
      "\u001b[K     |████████████████████▉           | 778 kB 32.3 MB/s eta 0:00:01\r",
      "\u001b[K     |█████████████████████▏          | 788 kB 32.3 MB/s eta 0:00:01\r",
      "\u001b[K     |█████████████████████▍          | 798 kB 32.3 MB/s eta 0:00:01\r",
      "\u001b[K     |█████████████████████▊          | 808 kB 32.3 MB/s eta 0:00:01\r",
      "\u001b[K     |██████████████████████          | 819 kB 32.3 MB/s eta 0:00:01\r",
      "\u001b[K     |██████████████████████▏         | 829 kB 32.3 MB/s eta 0:00:01\r",
      "\u001b[K     |██████████████████████▌         | 839 kB 32.3 MB/s eta 0:00:01\r",
      "\u001b[K     |██████████████████████▊         | 849 kB 32.3 MB/s eta 0:00:01\r",
      "\u001b[K     |███████████████████████         | 860 kB 32.3 MB/s eta 0:00:01\r",
      "\u001b[K     |███████████████████████▎        | 870 kB 32.3 MB/s eta 0:00:01\r",
      "\u001b[K     |███████████████████████▋        | 880 kB 32.3 MB/s eta 0:00:01\r",
      "\u001b[K     |███████████████████████▉        | 890 kB 32.3 MB/s eta 0:00:01\r",
      "\u001b[K     |████████████████████████▏       | 901 kB 32.3 MB/s eta 0:00:01\r",
      "\u001b[K     |████████████████████████▍       | 911 kB 32.3 MB/s eta 0:00:01\r",
      "\u001b[K     |████████████████████████▊       | 921 kB 32.3 MB/s eta 0:00:01\r",
      "\u001b[K     |█████████████████████████       | 931 kB 32.3 MB/s eta 0:00:01\r",
      "\u001b[K     |█████████████████████████▎      | 942 kB 32.3 MB/s eta 0:00:01\r",
      "\u001b[K     |█████████████████████████▌      | 952 kB 32.3 MB/s eta 0:00:01\r",
      "\u001b[K     |█████████████████████████▉      | 962 kB 32.3 MB/s eta 0:00:01\r",
      "\u001b[K     |██████████████████████████      | 972 kB 32.3 MB/s eta 0:00:01\r",
      "\u001b[K     |██████████████████████████▍     | 983 kB 32.3 MB/s eta 0:00:01\r",
      "\u001b[K     |██████████████████████████▋     | 993 kB 32.3 MB/s eta 0:00:01\r",
      "\u001b[K     |██████████████████████████▉     | 1.0 MB 32.3 MB/s eta 0:00:01\r",
      "\u001b[K     |███████████████████████████▏    | 1.0 MB 32.3 MB/s eta 0:00:01\r",
      "\u001b[K     |███████████████████████████▍    | 1.0 MB 32.3 MB/s eta 0:00:01\r",
      "\u001b[K     |███████████████████████████▊    | 1.0 MB 32.3 MB/s eta 0:00:01\r",
      "\u001b[K     |████████████████████████████    | 1.0 MB 32.3 MB/s eta 0:00:01\r",
      "\u001b[K     |████████████████████████████▎   | 1.1 MB 32.3 MB/s eta 0:00:01\r",
      "\u001b[K     |████████████████████████████▌   | 1.1 MB 32.3 MB/s eta 0:00:01\r",
      "\u001b[K     |████████████████████████████▉   | 1.1 MB 32.3 MB/s eta 0:00:01\r",
      "\u001b[K     |█████████████████████████████   | 1.1 MB 32.3 MB/s eta 0:00:01\r",
      "\u001b[K     |█████████████████████████████▍  | 1.1 MB 32.3 MB/s eta 0:00:01\r",
      "\u001b[K     |█████████████████████████████▋  | 1.1 MB 32.3 MB/s eta 0:00:01\r",
      "\u001b[K     |██████████████████████████████  | 1.1 MB 32.3 MB/s eta 0:00:01\r",
      "\u001b[K     |██████████████████████████████▏ | 1.1 MB 32.3 MB/s eta 0:00:01\r",
      "\u001b[K     |██████████████████████████████▌ | 1.1 MB 32.3 MB/s eta 0:00:01\r",
      "\u001b[K     |██████████████████████████████▊ | 1.1 MB 32.3 MB/s eta 0:00:01\r",
      "\u001b[K     |███████████████████████████████ | 1.2 MB 32.3 MB/s eta 0:00:01\r",
      "\u001b[K     |███████████████████████████████▎| 1.2 MB 32.3 MB/s eta 0:00:01\r",
      "\u001b[K     |███████████████████████████████▌| 1.2 MB 32.3 MB/s eta 0:00:01\r",
      "\u001b[K     |███████████████████████████████▉| 1.2 MB 32.3 MB/s eta 0:00:01\r",
      "\u001b[K     |████████████████████████████████| 1.2 MB 32.3 MB/s \n",
      "\u001b[?25hRequirement already satisfied: typing-extensions in /usr/local/lib/python3.7/dist-packages (from optuna-dashboard) (3.7.4.3)\n",
      "Requirement already satisfied: scikit-learn in /usr/local/lib/python3.7/dist-packages (from optuna-dashboard) (0.22.2.post1)\n",
      "Collecting optuna>=2.4\n",
      "  Downloading optuna-2.10.0-py3-none-any.whl (308 kB)\n",
      "\u001b[K     |████████████████████████████████| 308 kB 68.5 MB/s \n",
      "\u001b[?25hCollecting bottle\n",
      "  Downloading bottle-0.12.19-py3-none-any.whl (89 kB)\n",
      "\u001b[K     |████████████████████████████████| 89 kB 9.2 MB/s \n",
      "\u001b[?25hRequirement already satisfied: PyYAML in /usr/local/lib/python3.7/dist-packages (from optuna>=2.4->optuna-dashboard) (3.13)\n",
      "Collecting alembic\n",
      "  Downloading alembic-1.7.4-py3-none-any.whl (209 kB)\n",
      "\u001b[K     |████████████████████████████████| 209 kB 74.4 MB/s \n",
      "\u001b[?25hCollecting cliff\n",
      "  Downloading cliff-3.9.0-py3-none-any.whl (80 kB)\n",
      "\u001b[K     |████████████████████████████████| 80 kB 8.4 MB/s \n",
      "\u001b[?25hRequirement already satisfied: scipy!=1.4.0 in /usr/local/lib/python3.7/dist-packages (from optuna>=2.4->optuna-dashboard) (1.4.1)\n",
      "Collecting cmaes>=0.8.2\n",
      "  Downloading cmaes-0.8.2-py3-none-any.whl (15 kB)\n",
      "Requirement already satisfied: numpy in /usr/local/lib/python3.7/dist-packages (from optuna>=2.4->optuna-dashboard) (1.19.5)\n",
      "Requirement already satisfied: packaging>=20.0 in /usr/local/lib/python3.7/dist-packages (from optuna>=2.4->optuna-dashboard) (21.0)\n",
      "Collecting colorlog\n",
      "  Downloading colorlog-6.5.0-py2.py3-none-any.whl (11 kB)\n",
      "Requirement already satisfied: sqlalchemy>=1.1.0 in /usr/local/lib/python3.7/dist-packages (from optuna>=2.4->optuna-dashboard) (1.4.25)\n",
      "Requirement already satisfied: tqdm in /usr/local/lib/python3.7/dist-packages (from optuna>=2.4->optuna-dashboard) (4.62.3)\n",
      "Requirement already satisfied: pyparsing>=2.0.2 in /usr/local/lib/python3.7/dist-packages (from packaging>=20.0->optuna>=2.4->optuna-dashboard) (2.4.7)\n",
      "Requirement already satisfied: greenlet!=0.4.17 in /usr/local/lib/python3.7/dist-packages (from sqlalchemy>=1.1.0->optuna>=2.4->optuna-dashboard) (1.1.2)\n",
      "Requirement already satisfied: importlib-metadata in /usr/local/lib/python3.7/dist-packages (from sqlalchemy>=1.1.0->optuna>=2.4->optuna-dashboard) (4.8.1)\n",
      "Requirement already satisfied: importlib-resources in /usr/local/lib/python3.7/dist-packages (from alembic->optuna>=2.4->optuna-dashboard) (5.2.2)\n",
      "Collecting Mako\n",
      "  Downloading Mako-1.1.5-py2.py3-none-any.whl (75 kB)\n",
      "\u001b[K     |████████████████████████████████| 75 kB 4.5 MB/s \n",
      "\u001b[?25hCollecting stevedore>=2.0.1\n",
      "  Downloading stevedore-3.5.0-py3-none-any.whl (49 kB)\n",
      "\u001b[K     |████████████████████████████████| 49 kB 6.5 MB/s \n",
      "\u001b[?25hCollecting autopage>=0.4.0\n",
      "  Downloading autopage-0.4.0-py3-none-any.whl (20 kB)\n",
      "Requirement already satisfied: PrettyTable>=0.7.2 in /usr/local/lib/python3.7/dist-packages (from cliff->optuna>=2.4->optuna-dashboard) (2.2.1)\n",
      "Collecting pbr!=2.1.0,>=2.0.0\n",
      "  Downloading pbr-5.6.0-py2.py3-none-any.whl (111 kB)\n",
      "\u001b[K     |████████████████████████████████| 111 kB 50.1 MB/s \n",
      "\u001b[?25hCollecting cmd2>=1.0.0\n",
      "  Downloading cmd2-2.2.0-py3-none-any.whl (144 kB)\n",
      "\u001b[K     |████████████████████████████████| 144 kB 60.1 MB/s \n",
      "\u001b[?25hRequirement already satisfied: wcwidth>=0.1.7 in /usr/local/lib/python3.7/dist-packages (from cmd2>=1.0.0->cliff->optuna>=2.4->optuna-dashboard) (0.2.5)\n",
      "Collecting pyperclip>=1.6\n",
      "  Downloading pyperclip-1.8.2.tar.gz (20 kB)\n",
      "Collecting colorama>=0.3.7\n",
      "  Downloading colorama-0.4.4-py2.py3-none-any.whl (16 kB)\n",
      "Requirement already satisfied: attrs>=16.3.0 in /usr/local/lib/python3.7/dist-packages (from cmd2>=1.0.0->cliff->optuna>=2.4->optuna-dashboard) (21.2.0)\n",
      "Requirement already satisfied: zipp>=0.5 in /usr/local/lib/python3.7/dist-packages (from importlib-metadata->sqlalchemy>=1.1.0->optuna>=2.4->optuna-dashboard) (3.6.0)\n",
      "Requirement already satisfied: MarkupSafe>=0.9.2 in /usr/local/lib/python3.7/dist-packages (from Mako->alembic->optuna>=2.4->optuna-dashboard) (2.0.1)\n",
      "Requirement already satisfied: joblib>=0.11 in /usr/local/lib/python3.7/dist-packages (from scikit-learn->optuna-dashboard) (1.0.1)\n",
      "Building wheels for collected packages: pyperclip\n",
      "  Building wheel for pyperclip (setup.py) ... \u001b[?25l\u001b[?25hdone\n",
      "  Created wheel for pyperclip: filename=pyperclip-1.8.2-py3-none-any.whl size=11136 sha256=412c596c4112b8aa04adadc84c62731074b1609c757c6b4b8c6add99fdc7ce17\n",
      "  Stored in directory: /root/.cache/pip/wheels/9f/18/84/8f69f8b08169c7bae2dde6bd7daf0c19fca8c8e500ee620a28\n",
      "Successfully built pyperclip\n",
      "Installing collected packages: pyperclip, pbr, colorama, stevedore, Mako, cmd2, autopage, colorlog, cmaes, cliff, alembic, optuna, bottle, optuna-dashboard\n",
      "Successfully installed Mako-1.1.5 alembic-1.7.4 autopage-0.4.0 bottle-0.12.19 cliff-3.9.0 cmaes-0.8.2 cmd2-2.2.0 colorama-0.4.4 colorlog-6.5.0 optuna-2.10.0 optuna-dashboard-0.5.0 pbr-5.6.0 pyperclip-1.8.2 stevedore-3.5.0\n"
     ]
    }
   ],
   "source": [
    "pip install optuna-dashboard"
   ]
  },
  {
   "cell_type": "markdown",
   "metadata": {
    "id": "iGbulf2SaAxv"
   },
   "source": [
    "# New Section"
   ]
  },
  {
   "cell_type": "markdown",
   "metadata": {
    "id": "zvz7DhvBaA0f"
   },
   "source": [
    "# New Section"
   ]
  },
  {
   "cell_type": "code",
   "execution_count": 68,
   "metadata": {
    "colab": {
     "base_uri": "https://localhost:8080/"
    },
    "id": "2pgmljShhdaO",
    "outputId": "9ba2cd2d-9551-43f7-e3f7-bc4ce3a83eb1"
   },
   "outputs": [
    {
     "name": "stderr",
     "output_type": "stream",
     "text": [
      "INFO:fbprophet:Disabling daily seasonality. Run prophet with daily_seasonality=True to override this.\n",
      "INFO:fbprophet:Making 8 forecasts with cutoffs between 2014-04-09 00:00:00 and 2017-09-20 00:00:00\n",
      "INFO:fbprophet:Applying in parallel with <concurrent.futures.process.ProcessPoolExecutor object at 0x7fee8f852a50>\n"
     ]
    }
   ],
   "source": [
    "m = Prophet()\n",
    "m.fit(sample) \n",
    "\n",
    "number_initial_days = 366\n",
    "\n",
    "sample_cv = cross_validation(m,\n",
    "                         initial=f'{number_initial_days} days', \n",
    "                         period='180 days', \n",
    "                         horizon = '100 days',\n",
    "                         parallel='processes')\n",
    "\n",
    "sample_p = performance_metrics(sample_cv)"
   ]
  },
  {
   "cell_type": "code",
   "execution_count": 69,
   "metadata": {
    "id": "cRVkk90LhdcL"
   },
   "outputs": [],
   "source": [
    "param_types = {'changepoint_prior_scale': 'float', \n",
    "               'seasonality_prior_scale': 'float',\n",
    "              'seasonality_mode': 'int'}\n",
    "\n",
    "bounds = {'changepoint_prior_scale': [0.001, 0.5],\n",
    "          'seasonality_prior_scale': [0.01, 10],\n",
    "          'seasonality_mode': [0, 1]}  #0 for additive, 1 for multiplicative"
   ]
  },
  {
   "cell_type": "code",
   "execution_count": 70,
   "metadata": {
    "id": "39kM08-9hdd3"
   },
   "outputs": [],
   "source": [
    "def objective(trial):\n",
    "    '''Train a prophet model and return the rmse'''\n",
    "    # sampling\n",
    "    params = {}\n",
    "    for param in ['changepoint_prior_scale', 'seasonality_prior_scale']:\n",
    "        params[param] = trial.suggest_uniform(param, bounds[param][0], bounds[param][1])\n",
    "        \n",
    "    stationality = ['additive', 'multiplicative']\n",
    "    params['seasonality_mode'] = stationality[trial.suggest_int('seasonality_mode', \n",
    "                                                                  bounds['seasonality_mode'][0], \n",
    "                                                                  bounds['seasonality_mode'][1])]\n",
    "\n",
    "    # modeling\n",
    "    m = Prophet(weekly_seasonality=True,\n",
    "                daily_seasonality=False,\n",
    "                **params)\n",
    "    \n",
    "    m.fit(sample) \n",
    "    number_initial_days = 500\n",
    "    df_cv = cross_validation(m, \n",
    "                             initial=f'{number_initial_days} days', \n",
    "                             period='180 days', \n",
    "                         horizon = '100 days',\n",
    "                         parallel='processes')\n",
    "    \n",
    "    df_p = performance_metrics(df_cv, rolling_window=1)\n",
    "    print(df_p['mape'].mean())\n",
    "    \n",
    "    return df_p['rmse'].values[0]"
   ]
  },
  {
   "cell_type": "code",
   "execution_count": 71,
   "metadata": {
    "colab": {
     "base_uri": "https://localhost:8080/"
    },
    "id": "zE5dSrkSh9ng",
    "outputId": "56ce2992-3cde-4599-c6c0-613b9344003e"
   },
   "outputs": [
    {
     "name": "stderr",
     "output_type": "stream",
     "text": [
      "\u001b[32m[I 2021-10-21 16:14:35,793]\u001b[0m A new study created in memory with name: no-name-e38f7f51-f46b-42f0-8c63-fc3b2d3172c5\u001b[0m\n",
      "INFO:fbprophet:Making 7 forecasts with cutoffs between 2014-10-06 00:00:00 and 2017-09-20 00:00:00\n",
      "INFO:fbprophet:Applying in parallel with <concurrent.futures.process.ProcessPoolExecutor object at 0x7fee90225290>\n",
      "\u001b[32m[I 2021-10-21 16:15:17,756]\u001b[0m Trial 0 finished with value: 131.42657673084304 and parameters: {'changepoint_prior_scale': 0.2948775759274008, 'seasonality_prior_scale': 5.485490663997514, 'seasonality_mode': 1}. Best is trial 0 with value: 131.42657673084304.\u001b[0m\n"
     ]
    },
    {
     "name": "stdout",
     "output_type": "stream",
     "text": [
      "0.1485738948158962\n"
     ]
    },
    {
     "name": "stderr",
     "output_type": "stream",
     "text": [
      "INFO:fbprophet:Making 7 forecasts with cutoffs between 2014-10-06 00:00:00 and 2017-09-20 00:00:00\n",
      "INFO:fbprophet:Applying in parallel with <concurrent.futures.process.ProcessPoolExecutor object at 0x7fee7da15a90>\n",
      "\u001b[32m[I 2021-10-21 16:15:43,336]\u001b[0m Trial 1 finished with value: 91.1748947796976 and parameters: {'changepoint_prior_scale': 0.293730622415868, 'seasonality_prior_scale': 3.4141738563437434, 'seasonality_mode': 0}. Best is trial 1 with value: 91.1748947796976.\u001b[0m\n"
     ]
    },
    {
     "name": "stdout",
     "output_type": "stream",
     "text": [
      "0.10138263446477136\n"
     ]
    },
    {
     "name": "stderr",
     "output_type": "stream",
     "text": [
      "INFO:fbprophet:Making 7 forecasts with cutoffs between 2014-10-06 00:00:00 and 2017-09-20 00:00:00\n",
      "INFO:fbprophet:Applying in parallel with <concurrent.futures.process.ProcessPoolExecutor object at 0x7fee8fe429d0>\n",
      "\u001b[32m[I 2021-10-21 16:16:23,205]\u001b[0m Trial 2 finished with value: 128.99974954713971 and parameters: {'changepoint_prior_scale': 0.26358509110292616, 'seasonality_prior_scale': 9.529451647231097, 'seasonality_mode': 1}. Best is trial 1 with value: 91.1748947796976.\u001b[0m\n"
     ]
    },
    {
     "name": "stdout",
     "output_type": "stream",
     "text": [
      "0.1413956095411055\n"
     ]
    },
    {
     "name": "stderr",
     "output_type": "stream",
     "text": [
      "INFO:fbprophet:Making 7 forecasts with cutoffs between 2014-10-06 00:00:00 and 2017-09-20 00:00:00\n",
      "INFO:fbprophet:Applying in parallel with <concurrent.futures.process.ProcessPoolExecutor object at 0x7fee9031b550>\n",
      "\u001b[32m[I 2021-10-21 16:16:50,061]\u001b[0m Trial 3 finished with value: 91.07695621557866 and parameters: {'changepoint_prior_scale': 0.2994521800508778, 'seasonality_prior_scale': 6.129343084739724, 'seasonality_mode': 0}. Best is trial 3 with value: 91.07695621557866.\u001b[0m\n"
     ]
    },
    {
     "name": "stdout",
     "output_type": "stream",
     "text": [
      "0.10101361089105369\n"
     ]
    },
    {
     "name": "stderr",
     "output_type": "stream",
     "text": [
      "INFO:fbprophet:Making 7 forecasts with cutoffs between 2014-10-06 00:00:00 and 2017-09-20 00:00:00\n",
      "INFO:fbprophet:Applying in parallel with <concurrent.futures.process.ProcessPoolExecutor object at 0x7fee8f7d9810>\n",
      "\u001b[32m[I 2021-10-21 16:17:17,959]\u001b[0m Trial 4 finished with value: 90.67803903255377 and parameters: {'changepoint_prior_scale': 0.2953464064501442, 'seasonality_prior_scale': 7.113912977327488, 'seasonality_mode': 0}. Best is trial 4 with value: 90.67803903255377.\u001b[0m\n"
     ]
    },
    {
     "name": "stdout",
     "output_type": "stream",
     "text": [
      "0.10124100405079897\n"
     ]
    },
    {
     "name": "stderr",
     "output_type": "stream",
     "text": [
      "INFO:fbprophet:Making 7 forecasts with cutoffs between 2014-10-06 00:00:00 and 2017-09-20 00:00:00\n",
      "INFO:fbprophet:Applying in parallel with <concurrent.futures.process.ProcessPoolExecutor object at 0x7fee90330a10>\n",
      "\u001b[32m[I 2021-10-21 16:17:31,174]\u001b[0m Trial 5 finished with value: 91.94536718668125 and parameters: {'changepoint_prior_scale': 0.005165458884625428, 'seasonality_prior_scale': 7.520970298154929, 'seasonality_mode': 0}. Best is trial 4 with value: 90.67803903255377.\u001b[0m\n"
     ]
    },
    {
     "name": "stdout",
     "output_type": "stream",
     "text": [
      "0.10756962944604488\n"
     ]
    },
    {
     "name": "stderr",
     "output_type": "stream",
     "text": [
      "INFO:fbprophet:Making 7 forecasts with cutoffs between 2014-10-06 00:00:00 and 2017-09-20 00:00:00\n",
      "INFO:fbprophet:Applying in parallel with <concurrent.futures.process.ProcessPoolExecutor object at 0x7fee8f7c4990>\n",
      "\u001b[32m[I 2021-10-21 16:17:57,134]\u001b[0m Trial 6 finished with value: 88.05331960607852 and parameters: {'changepoint_prior_scale': 0.35399251282958566, 'seasonality_prior_scale': 1.960548283055285, 'seasonality_mode': 0}. Best is trial 6 with value: 88.05331960607852.\u001b[0m\n"
     ]
    },
    {
     "name": "stdout",
     "output_type": "stream",
     "text": [
      "0.0988835520330024\n"
     ]
    },
    {
     "name": "stderr",
     "output_type": "stream",
     "text": [
      "INFO:fbprophet:Making 7 forecasts with cutoffs between 2014-10-06 00:00:00 and 2017-09-20 00:00:00\n",
      "INFO:fbprophet:Applying in parallel with <concurrent.futures.process.ProcessPoolExecutor object at 0x7fee8f7d9810>\n",
      "\u001b[32m[I 2021-10-21 16:18:38,968]\u001b[0m Trial 7 finished with value: 109.508748570285 and parameters: {'changepoint_prior_scale': 0.08637432454124808, 'seasonality_prior_scale': 6.436212838552003, 'seasonality_mode': 1}. Best is trial 6 with value: 88.05331960607852.\u001b[0m\n"
     ]
    },
    {
     "name": "stdout",
     "output_type": "stream",
     "text": [
      "0.12308889754821821\n"
     ]
    },
    {
     "name": "stderr",
     "output_type": "stream",
     "text": [
      "INFO:fbprophet:Making 7 forecasts with cutoffs between 2014-10-06 00:00:00 and 2017-09-20 00:00:00\n",
      "INFO:fbprophet:Applying in parallel with <concurrent.futures.process.ProcessPoolExecutor object at 0x7fee818f4710>\n",
      "\u001b[32m[I 2021-10-21 16:19:21,872]\u001b[0m Trial 8 finished with value: 119.49156580779886 and parameters: {'changepoint_prior_scale': 0.1624990187953865, 'seasonality_prior_scale': 3.4443591753486955, 'seasonality_mode': 1}. Best is trial 6 with value: 88.05331960607852.\u001b[0m\n"
     ]
    },
    {
     "name": "stdout",
     "output_type": "stream",
     "text": [
      "0.1253930270755403\n"
     ]
    },
    {
     "name": "stderr",
     "output_type": "stream",
     "text": [
      "INFO:fbprophet:Making 7 forecasts with cutoffs between 2014-10-06 00:00:00 and 2017-09-20 00:00:00\n",
      "INFO:fbprophet:Applying in parallel with <concurrent.futures.process.ProcessPoolExecutor object at 0x7fee8f7c4c10>\n",
      "\u001b[32m[I 2021-10-21 16:20:00,768]\u001b[0m Trial 9 finished with value: 131.0936007523422 and parameters: {'changepoint_prior_scale': 0.4799660949859818, 'seasonality_prior_scale': 8.061486366724646, 'seasonality_mode': 1}. Best is trial 6 with value: 88.05331960607852.\u001b[0m\n"
     ]
    },
    {
     "name": "stdout",
     "output_type": "stream",
     "text": [
      "0.1469271380582386\n"
     ]
    }
   ],
   "source": [
    "study = optuna.create_study()\n",
    "study.optimize(objective, n_trials = 10)"
   ]
  },
  {
   "cell_type": "code",
   "execution_count": 72,
   "metadata": {
    "colab": {
     "base_uri": "https://localhost:8080/"
    },
    "id": "p-ILNaHEh9q3",
    "outputId": "79ffbd8c-66c0-44e1-e30f-99ca30ed84fa"
   },
   "outputs": [
    {
     "data": {
      "text/plain": [
       "{'changepoint_prior_scale': 0.35399251282958566,\n",
       " 'seasonality_mode': 0,\n",
       " 'seasonality_prior_scale': 1.960548283055285}"
      ]
     },
     "execution_count": 72,
     "metadata": {},
     "output_type": "execute_result"
    }
   ],
   "source": [
    "study.best_params"
   ]
  },
  {
   "cell_type": "code",
   "execution_count": 73,
   "metadata": {
    "id": "H1ZuUxcbh9uN"
   },
   "outputs": [],
   "source": [
    "# Novbeti 100 gun proqnoz"
   ]
  },
  {
   "cell_type": "code",
   "execution_count": 74,
   "metadata": {
    "colab": {
     "base_uri": "https://localhost:8080/",
     "height": 419
    },
    "id": "9v4P8Db1h90v",
    "outputId": "aae76871-060b-437e-f9bf-64273019c1d0"
   },
   "outputs": [
    {
     "data": {
      "text/html": [
       "<div>\n",
       "<style scoped>\n",
       "    .dataframe tbody tr th:only-of-type {\n",
       "        vertical-align: middle;\n",
       "    }\n",
       "\n",
       "    .dataframe tbody tr th {\n",
       "        vertical-align: top;\n",
       "    }\n",
       "\n",
       "    .dataframe thead th {\n",
       "        text-align: right;\n",
       "    }\n",
       "</style>\n",
       "<table border=\"1\" class=\"dataframe\">\n",
       "  <thead>\n",
       "    <tr style=\"text-align: right;\">\n",
       "      <th></th>\n",
       "      <th>ds</th>\n",
       "      <th>y</th>\n",
       "    </tr>\n",
       "  </thead>\n",
       "  <tbody>\n",
       "    <tr>\n",
       "      <th>0</th>\n",
       "      <td>2013-01-02</td>\n",
       "      <td>359.288177</td>\n",
       "    </tr>\n",
       "    <tr>\n",
       "      <th>1</th>\n",
       "      <td>2013-01-03</td>\n",
       "      <td>359.496826</td>\n",
       "    </tr>\n",
       "    <tr>\n",
       "      <th>2</th>\n",
       "      <td>2013-01-04</td>\n",
       "      <td>366.600616</td>\n",
       "    </tr>\n",
       "    <tr>\n",
       "      <th>3</th>\n",
       "      <td>2013-01-07</td>\n",
       "      <td>365.001007</td>\n",
       "    </tr>\n",
       "    <tr>\n",
       "      <th>4</th>\n",
       "      <td>2013-01-08</td>\n",
       "      <td>364.280701</td>\n",
       "    </tr>\n",
       "    <tr>\n",
       "      <th>...</th>\n",
       "      <td>...</td>\n",
       "      <td>...</td>\n",
       "    </tr>\n",
       "    <tr>\n",
       "      <th>1154</th>\n",
       "      <td>2017-08-02</td>\n",
       "      <td>930.390015</td>\n",
       "    </tr>\n",
       "    <tr>\n",
       "      <th>1155</th>\n",
       "      <td>2017-08-03</td>\n",
       "      <td>923.650024</td>\n",
       "    </tr>\n",
       "    <tr>\n",
       "      <th>1156</th>\n",
       "      <td>2017-08-04</td>\n",
       "      <td>927.960022</td>\n",
       "    </tr>\n",
       "    <tr>\n",
       "      <th>1157</th>\n",
       "      <td>2017-08-07</td>\n",
       "      <td>929.359985</td>\n",
       "    </tr>\n",
       "    <tr>\n",
       "      <th>1158</th>\n",
       "      <td>2017-08-08</td>\n",
       "      <td>926.789978</td>\n",
       "    </tr>\n",
       "  </tbody>\n",
       "</table>\n",
       "<p>1159 rows × 2 columns</p>\n",
       "</div>"
      ],
      "text/plain": [
       "              ds           y\n",
       "0     2013-01-02  359.288177\n",
       "1     2013-01-03  359.496826\n",
       "2     2013-01-04  366.600616\n",
       "3     2013-01-07  365.001007\n",
       "4     2013-01-08  364.280701\n",
       "...          ...         ...\n",
       "1154  2017-08-02  930.390015\n",
       "1155  2017-08-03  923.650024\n",
       "1156  2017-08-04  927.960022\n",
       "1157  2017-08-07  929.359985\n",
       "1158  2017-08-08  926.789978\n",
       "\n",
       "[1159 rows x 2 columns]"
      ]
     },
     "execution_count": 74,
     "metadata": {},
     "output_type": "execute_result"
    }
   ],
   "source": [
    "train"
   ]
  },
  {
   "cell_type": "code",
   "execution_count": 75,
   "metadata": {
    "colab": {
     "base_uri": "https://localhost:8080/",
     "height": 419
    },
    "id": "GxbsYTXDiInU",
    "outputId": "6b686b48-174e-46bc-f586-f45a26738095"
   },
   "outputs": [
    {
     "data": {
      "text/html": [
       "<div>\n",
       "<style scoped>\n",
       "    .dataframe tbody tr th:only-of-type {\n",
       "        vertical-align: middle;\n",
       "    }\n",
       "\n",
       "    .dataframe tbody tr th {\n",
       "        vertical-align: top;\n",
       "    }\n",
       "\n",
       "    .dataframe thead th {\n",
       "        text-align: right;\n",
       "    }\n",
       "</style>\n",
       "<table border=\"1\" class=\"dataframe\">\n",
       "  <thead>\n",
       "    <tr style=\"text-align: right;\">\n",
       "      <th></th>\n",
       "      <th>ds</th>\n",
       "      <th>y</th>\n",
       "    </tr>\n",
       "  </thead>\n",
       "  <tbody>\n",
       "    <tr>\n",
       "      <th>1159</th>\n",
       "      <td>2017-08-09</td>\n",
       "      <td>922.900024</td>\n",
       "    </tr>\n",
       "    <tr>\n",
       "      <th>1160</th>\n",
       "      <td>2017-08-10</td>\n",
       "      <td>907.239990</td>\n",
       "    </tr>\n",
       "    <tr>\n",
       "      <th>1161</th>\n",
       "      <td>2017-08-11</td>\n",
       "      <td>914.390015</td>\n",
       "    </tr>\n",
       "    <tr>\n",
       "      <th>1162</th>\n",
       "      <td>2017-08-14</td>\n",
       "      <td>922.669983</td>\n",
       "    </tr>\n",
       "    <tr>\n",
       "      <th>1163</th>\n",
       "      <td>2017-08-15</td>\n",
       "      <td>922.219971</td>\n",
       "    </tr>\n",
       "    <tr>\n",
       "      <th>...</th>\n",
       "      <td>...</td>\n",
       "      <td>...</td>\n",
       "    </tr>\n",
       "    <tr>\n",
       "      <th>1254</th>\n",
       "      <td>2017-12-22</td>\n",
       "      <td>1060.119995</td>\n",
       "    </tr>\n",
       "    <tr>\n",
       "      <th>1255</th>\n",
       "      <td>2017-12-26</td>\n",
       "      <td>1056.739990</td>\n",
       "    </tr>\n",
       "    <tr>\n",
       "      <th>1256</th>\n",
       "      <td>2017-12-27</td>\n",
       "      <td>1049.369995</td>\n",
       "    </tr>\n",
       "    <tr>\n",
       "      <th>1257</th>\n",
       "      <td>2017-12-28</td>\n",
       "      <td>1048.140015</td>\n",
       "    </tr>\n",
       "    <tr>\n",
       "      <th>1258</th>\n",
       "      <td>2017-12-29</td>\n",
       "      <td>1046.400024</td>\n",
       "    </tr>\n",
       "  </tbody>\n",
       "</table>\n",
       "<p>100 rows × 2 columns</p>\n",
       "</div>"
      ],
      "text/plain": [
       "              ds            y\n",
       "1159  2017-08-09   922.900024\n",
       "1160  2017-08-10   907.239990\n",
       "1161  2017-08-11   914.390015\n",
       "1162  2017-08-14   922.669983\n",
       "1163  2017-08-15   922.219971\n",
       "...          ...          ...\n",
       "1254  2017-12-22  1060.119995\n",
       "1255  2017-12-26  1056.739990\n",
       "1256  2017-12-27  1049.369995\n",
       "1257  2017-12-28  1048.140015\n",
       "1258  2017-12-29  1046.400024\n",
       "\n",
       "[100 rows x 2 columns]"
      ]
     },
     "execution_count": 75,
     "metadata": {},
     "output_type": "execute_result"
    }
   ],
   "source": [
    "test"
   ]
  },
  {
   "cell_type": "code",
   "execution_count": 76,
   "metadata": {
    "id": "mykU5GF8iIqR"
   },
   "outputs": [],
   "source": [
    "params = study.best_params"
   ]
  },
  {
   "cell_type": "code",
   "execution_count": 77,
   "metadata": {
    "id": "oqK7xzqtiI0N"
   },
   "outputs": [],
   "source": [
    "params[\"seasonality_mode\"] = \"additive\""
   ]
  },
  {
   "cell_type": "code",
   "execution_count": 78,
   "metadata": {
    "id": "Wm8NrFPfiSI1"
   },
   "outputs": [],
   "source": [
    "model = Prophet(weekly_seasonality=True,\n",
    "                daily_seasonality=False,\n",
    "                **params)\n",
    "\n",
    "model.fit(train)\n",
    "forecast = model.make_future_dataframe(periods = 100, freq= \"D\")\n",
    "predictions = model.predict(forecast)\n",
    "preds = predictions[[\"ds\", \"yhat\"]]\n",
    "y_pred = preds.iloc[-100:, 1]\n",
    "y_test = test.y"
   ]
  },
  {
   "cell_type": "code",
   "execution_count": 79,
   "metadata": {
    "colab": {
     "base_uri": "https://localhost:8080/"
    },
    "id": "k924lW50iSL6",
    "outputId": "98b6189d-3549-4d6b-8338-14720efc1177"
   },
   "outputs": [
    {
     "data": {
      "text/plain": [
       "105.58111045244203"
      ]
     },
     "execution_count": 79,
     "metadata": {},
     "output_type": "execute_result"
    }
   ],
   "source": [
    "rmse(y_test, y_pred)"
   ]
  },
  {
   "cell_type": "code",
   "execution_count": 80,
   "metadata": {
    "colab": {
     "base_uri": "https://localhost:8080/",
     "height": 441
    },
    "id": "XvGlaQo4iYf8",
    "outputId": "767ecc0e-fdcf-4e5e-9be1-f53b195c0260"
   },
   "outputs": [
    {
     "data": {
      "image/png": "[encoded data removed]",
      "text/plain": [
       "<Figure size 720x432 with 1 Axes>"
      ]
     },
     "metadata": {},
     "output_type": "display_data"
    }
   ],
   "source": [
    "model.plot(predictions, xlabel = \"Date\", ylabel= \"Stock close price\");"
   ]
  },
  {
   "cell_type": "code",
   "execution_count": 81,
   "metadata": {
    "colab": {
     "base_uri": "https://localhost:8080/",
     "height": 657
    },
    "id": "GWtpVY0ZiYi2",
    "outputId": "9caa7c49-174e-44de-d676-5fb08e05dbdb"
   },
   "outputs": [
    {
     "data": {
      "image/png": "[encoded data removed]",
      "text/plain": [
       "<Figure size 648x648 with 3 Axes>"
      ]
     },
     "metadata": {},
     "output_type": "display_data"
    }
   ],
   "source": [
    "model.plot_components(predictions);\n"
   ]
  }
 ],
 "metadata": {
  "colab": {
   "collapsed_sections": [],
   "name": "Google Stock Price Prediction.ipynb",
   "provenance": []
  },
  "kernelspec": {
   "display_name": "Python 3",
   "language": "python",
   "name": "python3"
  },
  "language_info": {
   "codemirror_mode": {
    "name": "ipython",
    "version": 3
   },
   "file_extension": ".py",
   "mimetype": "text/x-python",
   "name": "python",
   "nbconvert_exporter": "python",
   "pygments_lexer": "ipython3",
   "version": "3.8.8"
  }
 },
 "nbformat": 4,
 "nbformat_minor": 1
}
